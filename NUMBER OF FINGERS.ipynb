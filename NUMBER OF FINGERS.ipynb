{
 "cells": [
  {
   "cell_type": "code",
   "execution_count": 7,
   "metadata": {},
   "outputs": [],
   "source": [
    "import cv2 as cv\n",
    "import numpy as np\n",
    "import threading\n",
    "import pyttsx3 as t2s"
   ]
  },
  {
   "cell_type": "code",
   "execution_count": 8,
   "metadata": {},
   "outputs": [],
   "source": [
    "eng=t2s.init()\n"
   ]
  },
  {
   "cell_type": "code",
   "execution_count": 16,
   "metadata": {},
   "outputs": [],
   "source": [
    "def text_to_speech(text):\n",
    "    try:\n",
    "        eng.setProperty('rate',120);eng.setProperty('volume',.9)\n",
    "        eng.say(text)\n",
    "        eng.runAndWait()\n",
    "    except:\n",
    "        pass\n",
    "    "
   ]
  },
  {
   "cell_type": "code",
   "execution_count": 36,
   "metadata": {},
   "outputs": [],
   "source": [
    "finger_cascade=cv.CascadeClassifier('C:/Users/kumar/Downloads/opencv-master/opencv-master/samples/data/fingertip_cascade.xml')\n",
    "cap=cv.VideoCapture(0)\n",
    "while True:\n",
    "    ret,frame=cap.read()\n",
    "    frame=cv.resize(frame,None,fx=1,fy=1,interpolation=cv.INTER_AREA)\n",
    "    \n",
    "    gray=cv.cvtColor(frame,cv.COLOR_BGR2GRAY)\n",
    "    \n",
    "    fingers=finger_cascade.detectMultiScale(gray,1.2,10)\n",
    "    n=0\n",
    "    for finger in fingers:\n",
    "        n+=1\n",
    "        x,y,w,h=finger\n",
    "        cv.rectangle(frame,(x,y),(x+w,y+h),(0,255,0),1)\n",
    "        cv.putText(frame, str(n), (x+int(w/2)-8,y+ int(h/2)+5), cv.FONT_HERSHEY_SIMPLEX,.8, (255,10,100), 2)\n",
    "        cv.circle(frame,(x+np.uint8(w/2),y+np.uint8(h/2)),2,(0,0,255),-1)\n",
    "    \n",
    "    \n",
    "    \n",
    "    t=threading.Thread(name='child',target=text_to_speech,args=(n,))\n",
    "    if not t.is_alive():\n",
    "        t.start()\n",
    "    cv.putText(frame, str(n), (10,450), cv.FONT_HERSHEY_SIMPLEX,3, (0,255,0), 2)\n",
    "    cv.imshow('Video Feed',frame)\n",
    "    if cv.waitKey(1) ==27:\n",
    "        break\n",
    "cap.release()\n",
    "cv.destroyAllWindows()\n",
    "            \n",
    "            \n",
    "            "
   ]
  },
  {
   "cell_type": "code",
   "execution_count": null,
   "metadata": {},
   "outputs": [],
   "source": []
  },
  {
   "cell_type": "code",
   "execution_count": null,
   "metadata": {},
   "outputs": [],
   "source": []
  }
 ],
 "metadata": {
  "kernelspec": {
   "display_name": "Python 3",
   "language": "python",
   "name": "python3"
  },
  "language_info": {
   "codemirror_mode": {
    "name": "ipython",
    "version": 3
   },
   "file_extension": ".py",
   "mimetype": "text/x-python",
   "name": "python",
   "nbconvert_exporter": "python",
   "pygments_lexer": "ipython3",
   "version": "3.6.12"
  }
 },
 "nbformat": 4,
 "nbformat_minor": 4
}
